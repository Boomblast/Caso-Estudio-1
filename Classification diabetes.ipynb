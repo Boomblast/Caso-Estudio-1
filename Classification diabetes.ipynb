{
 "cells": [
  {
   "cell_type": "code",
   "execution_count": 2,
   "id": "e4cdc95f-7926-45b2-9b5d-6d64b024d501",
   "metadata": {},
   "outputs": [],
   "source": [
    "import os\n",
    "import numpy as np \n",
    "import pandas as pd \n",
    "import warnings\n",
    "import seaborn as sns\n",
    "import matplotlib.pyplot as plt\n",
    "import plotly.express as px\n",
    "warnings.filterwarnings(\"ignore\")\n",
    "pd.set_option(\"display.max_rows\",None)\n",
    "from sklearn import preprocessing\n",
    "import matplotlib \n",
    "matplotlib.style.use('ggplot')\n",
    "from sklearn.preprocessing import LabelEncoder\n"
   ]
  },
  {
   "cell_type": "code",
   "execution_count": 3,
   "id": "c52f4971-e076-4c50-96a4-eafe74d8b7cb",
   "metadata": {},
   "outputs": [
    {
     "data": {
      "text/html": [
       "<div>\n",
       "<style scoped>\n",
       "    .dataframe tbody tr th:only-of-type {\n",
       "        vertical-align: middle;\n",
       "    }\n",
       "\n",
       "    .dataframe tbody tr th {\n",
       "        vertical-align: top;\n",
       "    }\n",
       "\n",
       "    .dataframe thead th {\n",
       "        text-align: right;\n",
       "    }\n",
       "</style>\n",
       "<table border=\"1\" class=\"dataframe\">\n",
       "  <thead>\n",
       "    <tr style=\"text-align: right;\">\n",
       "      <th></th>\n",
       "      <th>Unnamed: 0</th>\n",
       "      <th>colesterol</th>\n",
       "      <th>glucosa</th>\n",
       "      <th>hdl_chol</th>\n",
       "      <th>prop_col_hdl</th>\n",
       "      <th>edad</th>\n",
       "      <th>genero</th>\n",
       "      <th>altura</th>\n",
       "      <th>peso</th>\n",
       "      <th>IMC</th>\n",
       "      <th>ps_sistolica</th>\n",
       "      <th>ps_diastolica</th>\n",
       "      <th>cintura</th>\n",
       "      <th>caderas</th>\n",
       "      <th>prop_cin_cad</th>\n",
       "      <th>diabetes</th>\n",
       "    </tr>\n",
       "  </thead>\n",
       "  <tbody>\n",
       "    <tr>\n",
       "      <th>0</th>\n",
       "      <td>1</td>\n",
       "      <td>193</td>\n",
       "      <td>77</td>\n",
       "      <td>49</td>\n",
       "      <td>3.9</td>\n",
       "      <td>19</td>\n",
       "      <td>female</td>\n",
       "      <td>61</td>\n",
       "      <td>119</td>\n",
       "      <td>22.5</td>\n",
       "      <td>118</td>\n",
       "      <td>70</td>\n",
       "      <td>32</td>\n",
       "      <td>38</td>\n",
       "      <td>0.84</td>\n",
       "      <td>No_diabetes</td>\n",
       "    </tr>\n",
       "    <tr>\n",
       "      <th>1</th>\n",
       "      <td>2</td>\n",
       "      <td>146</td>\n",
       "      <td>79</td>\n",
       "      <td>41</td>\n",
       "      <td>3.6</td>\n",
       "      <td>19</td>\n",
       "      <td>female</td>\n",
       "      <td>60</td>\n",
       "      <td>135</td>\n",
       "      <td>26.4</td>\n",
       "      <td>108</td>\n",
       "      <td>58</td>\n",
       "      <td>33</td>\n",
       "      <td>40</td>\n",
       "      <td>0.83</td>\n",
       "      <td>No_diabetes</td>\n",
       "    </tr>\n",
       "    <tr>\n",
       "      <th>2</th>\n",
       "      <td>3</td>\n",
       "      <td>217</td>\n",
       "      <td>75</td>\n",
       "      <td>54</td>\n",
       "      <td>4.0</td>\n",
       "      <td>20</td>\n",
       "      <td>female</td>\n",
       "      <td>67</td>\n",
       "      <td>187</td>\n",
       "      <td>29.3</td>\n",
       "      <td>110</td>\n",
       "      <td>72</td>\n",
       "      <td>40</td>\n",
       "      <td>45</td>\n",
       "      <td>0.89</td>\n",
       "      <td>No_diabetes</td>\n",
       "    </tr>\n",
       "    <tr>\n",
       "      <th>3</th>\n",
       "      <td>4</td>\n",
       "      <td>226</td>\n",
       "      <td>97</td>\n",
       "      <td>70</td>\n",
       "      <td>3.2</td>\n",
       "      <td>20</td>\n",
       "      <td>female</td>\n",
       "      <td>64</td>\n",
       "      <td>114</td>\n",
       "      <td>19.6</td>\n",
       "      <td>122</td>\n",
       "      <td>64</td>\n",
       "      <td>31</td>\n",
       "      <td>39</td>\n",
       "      <td>0.79</td>\n",
       "      <td>No_diabetes</td>\n",
       "    </tr>\n",
       "    <tr>\n",
       "      <th>4</th>\n",
       "      <td>5</td>\n",
       "      <td>164</td>\n",
       "      <td>91</td>\n",
       "      <td>67</td>\n",
       "      <td>2.4</td>\n",
       "      <td>20</td>\n",
       "      <td>female</td>\n",
       "      <td>70</td>\n",
       "      <td>141</td>\n",
       "      <td>20.2</td>\n",
       "      <td>122</td>\n",
       "      <td>86</td>\n",
       "      <td>32</td>\n",
       "      <td>39</td>\n",
       "      <td>0.82</td>\n",
       "      <td>No_diabetes</td>\n",
       "    </tr>\n",
       "  </tbody>\n",
       "</table>\n",
       "</div>"
      ],
      "text/plain": [
       "   Unnamed: 0  colesterol  glucosa  hdl_chol  prop_col_hdl  edad  genero  \\\n",
       "0           1         193       77        49           3.9    19  female   \n",
       "1           2         146       79        41           3.6    19  female   \n",
       "2           3         217       75        54           4.0    20  female   \n",
       "3           4         226       97        70           3.2    20  female   \n",
       "4           5         164       91        67           2.4    20  female   \n",
       "\n",
       "   altura  peso   IMC  ps_sistolica  ps_diastolica  cintura  caderas  \\\n",
       "0      61   119  22.5           118             70       32       38   \n",
       "1      60   135  26.4           108             58       33       40   \n",
       "2      67   187  29.3           110             72       40       45   \n",
       "3      64   114  19.6           122             64       31       39   \n",
       "4      70   141  20.2           122             86       32       39   \n",
       "\n",
       "   prop_cin_cad     diabetes  \n",
       "0          0.84  No_diabetes  \n",
       "1          0.83  No_diabetes  \n",
       "2          0.89  No_diabetes  \n",
       "3          0.79  No_diabetes  \n",
       "4          0.82  No_diabetes  "
      ]
     },
     "execution_count": 3,
     "metadata": {},
     "output_type": "execute_result"
    }
   ],
   "source": [
    "df=pd.read_csv (\"C:\\\\Users\\\\Jorge\\\\OneDrive\\\\Documentos\\\\Jorge\\\\LEAD university\\\\2025\\\\Mineria de datos avanzada\\\\Caso de estudio 1\\\\diabetes_V2.csv\")\n",
    "df.head()"
   ]
  },
  {
   "cell_type": "code",
   "execution_count": 4,
   "id": "0526f799-a483-49ab-b5d2-ca8b36e17056",
   "metadata": {},
   "outputs": [
    {
     "data": {
      "text/plain": [
       "Unnamed: 0         int64\n",
       "colesterol         int64\n",
       "glucosa            int64\n",
       "hdl_chol           int64\n",
       "prop_col_hdl     float64\n",
       "edad               int64\n",
       "genero            object\n",
       "altura             int64\n",
       "peso               int64\n",
       "IMC              float64\n",
       "ps_sistolica       int64\n",
       "ps_diastolica      int64\n",
       "cintura            int64\n",
       "caderas            int64\n",
       "prop_cin_cad     float64\n",
       "diabetes          object\n",
       "dtype: object"
      ]
     },
     "execution_count": 4,
     "metadata": {},
     "output_type": "execute_result"
    }
   ],
   "source": [
    "df.dtypes"
   ]
  },
  {
   "cell_type": "code",
   "execution_count": 5,
   "id": "947687ba-f2df-4624-95a9-b5b6090e5895",
   "metadata": {},
   "outputs": [],
   "source": [
    "df[\"diabetes\"] = df[\"diabetes\"].map({\"No_diabetes\": 0, \"Diabetes\": 1})"
   ]
  },
  {
   "cell_type": "code",
   "execution_count": 7,
   "id": "1c7eb844-a845-4e4a-8683-a17872f15c3e",
   "metadata": {},
   "outputs": [],
   "source": [
    "df[\"genero\"] = df[\"genero\"].map({\"Hombre\": 0, \"Mujer\": 1})"
   ]
  },
  {
   "cell_type": "code",
   "execution_count": 1,
   "id": "468c45b0-d3e6-4caa-93c1-9099847b5114",
   "metadata": {},
   "outputs": [],
   "source": [
    "import pandas as pd\n",
    "import seaborn as sns\n",
    "import matplotlib.pyplot as plt\n",
    "\n",
    "df=pd.read_csv (\"C:\\\\Users\\\\Jorge\\\\OneDrive\\\\Documentos\\\\Jorge\\\\LEAD university\\\\2025\\\\Mineria de datos avanzada\\\\Caso de estudio 1\\\\diabetes_V2.csv\")\n",
    "\n",
    "clase_counts = df[\"diabetes\"].value_counts()"
   ]
  },
  {
   "cell_type": "code",
   "execution_count": 2,
   "id": "0fa002e2-b29b-43d1-9d84-cb1bc1718f5a",
   "metadata": {},
   "outputs": [
    {
     "name": "stdout",
     "output_type": "stream",
     "text": [
      "diabetes\n",
      "No_diabetes    330\n",
      "Diabetes        60\n",
      "Name: count, dtype: int64\n"
     ]
    }
   ],
   "source": [
    "print(clase_counts)"
   ]
  },
  {
   "cell_type": "code",
   "execution_count": 3,
   "id": "7d36f30b-44b5-4f31-89b1-a13a7aabaa37",
   "metadata": {},
   "outputs": [
    {
     "data": {
      "image/png": "[encoded data removed]",
      "text/plain": [
       "<Figure size 600x400 with 1 Axes>"
      ]
     },
     "metadata": {},
     "output_type": "display_data"
    }
   ],
   "source": [
    "# Graficar la distribución\n",
    "plt.figure(figsize=(6,4))\n",
    "sns.barplot(x=clase_counts.index, y=clase_counts.values)\n",
    "plt.xlabel(\"Clases\")\n",
    "plt.ylabel(\"Cantidad de ejemplos\")\n",
    "plt.title(\"Distribución de Clases en el Dataset\")\n",
    "plt.show()"
   ]
  },
  {
   "cell_type": "code",
   "execution_count": 4,
   "id": "28f0c91b-150b-4b05-9ce4-e4b0a64a20cd",
   "metadata": {},
   "outputs": [
    {
     "name": "stdout",
     "output_type": "stream",
     "text": [
      "Ratio de desbalance: 5.50\n"
     ]
    }
   ],
   "source": [
    "ratio = clase_counts.max() / clase_counts.min()\n",
    "print(f\"Ratio de desbalance: {ratio:.2f}\")"
   ]
  },
  {
   "cell_type": "code",
   "execution_count": null,
   "id": "80820c1a-4174-4d03-a12c-a75bd50f9809",
   "metadata": {},
   "outputs": [],
   "source": [
    "\"\"\"Si el ratio ≈ 1, el dataset está balanceado.\n",
    "Si el ratio > 2 o 3, hay un cierto desbalance.\n",
    "Si el ratio > 10, el desbalance es grave y puede afectar el modelo.\"\"\""
   ]
  }
 ],
 "metadata": {
  "kernelspec": {
   "display_name": "Python 3 (ipykernel)",
   "language": "python",
   "name": "python3"
  },
  "language_info": {
   "codemirror_mode": {
    "name": "ipython",
    "version": 3
   },
   "file_extension": ".py",
   "mimetype": "text/x-python",
   "name": "python",
   "nbconvert_exporter": "python",
   "pygments_lexer": "ipython3",
   "version": "3.12.7"
  }
 },
 "nbformat": 4,
 "nbformat_minor": 5
}
